{
 "cells": [
  {
   "cell_type": "markdown",
   "metadata": {},
   "source": [
    "# <center>Lab Assignment 3: Hopfield networks</center>"
   ]
  },
  {
   "cell_type": "code",
   "execution_count": 1,
   "metadata": {},
   "outputs": [],
   "source": [
    "import numpy as np\n",
    "%matplotlib inline \n",
    "from matplotlib import pyplot as plt"
   ]
  },
  {
   "cell_type": "markdown",
   "metadata": {},
   "source": [
    "### Implement the network class"
   ]
  },
  {
   "cell_type": "code",
   "execution_count": 2,
   "metadata": {},
   "outputs": [],
   "source": [
    "class HopfieldNetwork:\n",
    "    def __init__(self):\n",
    "        self.W = None\n",
    "\n",
    "    def train(self, X: np.ndarray):\n",
    "        M, N = len(X), len(X[0])\n",
    "        self.W = (1 / N) * X.dot(X.T)\n",
    "        np.fill_diagonal(self.W, 0)\n",
    "\n",
    "    def print_W(self):\n",
    "        for i in range(self.W.shape[0]):\n",
    "            for j in range(self.W.shape[1]):\n",
    "                print(\"%.1f  \\t\" % (self.W[i][j]),  end='')\n",
    "            print()\n",
    "\n",
    "    def update_async(self, p_start, mode: str = 'sequential', log: list = None):\n",
    "        \"\"\"\n",
    "        Apply the update rule on the input pattern V to get the restored pattern\n",
    "        which is an attractor in the network's storage\n",
    "        :param mode:\n",
    "        :param p_start: the start pattern\n",
    "        :param log: energy log array to be filled\n",
    "        :return: the restored pattern\n",
    "        \"\"\"\n",
    "        V = np.copy(p_start)\n",
    "        m = len(V)\n",
    "        indices = [i for i in range(m)]\n",
    "        iter = 1\n",
    "        while True:\n",
    "            if log is not None:\n",
    "                e = self.energyOf(V)\n",
    "                log.append(e)\n",
    "            cnt = 0\n",
    "            if mode == 'random':\n",
    "                indices = np.random.permutation(indices)\n",
    "            for i in indices:\n",
    "                value_old = V[i]\n",
    "                value_new = np.sign(self.W[:, i].dot(V))\n",
    "                if value_new != value_old:\n",
    "                    V[i] = value_new\n",
    "                    cnt += 1\n",
    "                # print(i, value_old, value_new, self.W[:, i].dot(V))\n",
    "\n",
    "            if cnt == 0:\n",
    "                # print(\"Converged in %s iterations\" % iter)\n",
    "                break\n",
    "            if iter > 1e3:\n",
    "                break\n",
    "            iter += 1\n",
    "\n",
    "        return V\n",
    "\n",
    "    def update_sync(self, p_start, log: list = None):\n",
    "        \"\"\"\n",
    "        Implementation of the little model\n",
    "        :param p_start: the start pattern\n",
    "        :param log: energy log array to be filled\n",
    "        :return: the restored pattern\n",
    "        \"\"\"\n",
    "        V = np.copy(p_start)\n",
    "        iter = 1\n",
    "        while True:\n",
    "            if log is not None:\n",
    "                e = self.energyOf(V)\n",
    "                log.append(e)\n",
    "            V_new = np.sign(self.W.dot(V))\n",
    "            V = V_new\n",
    "            diff = np.sum(np.abs(V - V_new))\n",
    "            if diff == 0:\n",
    "                break\n",
    "            iter += 1\n",
    "\n",
    "        return V\n",
    "\n",
    "            \n",
    "    def energyOf(self, x):\n",
    "        \"\"\"\n",
    "        Compute the energy of the given state\n",
    "        :param x: a n-by-1 array pattern which represents a state\n",
    "        :return: a float value\n",
    "        \"\"\"\n",
    "        # take it as a quadratic form\n",
    "        return - x.dot(self.W).dot(x)\n",
    "\n",
    "    @staticmethod\n",
    "    def plot_energy(energy_log):\n",
    "        for i in range(len(energy_log)):\n",
    "            plt.scatter(i, energy_log[i])\n",
    "        plt.plot(energy_log)\n",
    "        plt.title(\"Energy changes\")\n",
    "        plt.show()"
   ]
  },
  {
   "cell_type": "markdown",
   "metadata": {},
   "source": [
    "### Construct input patterns for training"
   ]
  },
  {
   "cell_type": "code",
   "execution_count": 3,
   "metadata": {},
   "outputs": [],
   "source": [
    "x1 = [-1, -1, 1, -1, 1, -1, -1, 1]\n",
    "x2 = [-1, -1, -1, -1, -1, 1, -1, -1]\n",
    "x3 = [-1, 1, 1, -1, -1, 1, -1, 1]\n",
    "X = np.array([x1, x2, x3]).T"
   ]
  },
  {
   "cell_type": "markdown",
   "metadata": {},
   "source": [
    "### Train the network"
   ]
  },
  {
   "cell_type": "code",
   "execution_count": 4,
   "metadata": {},
   "outputs": [],
   "source": [
    "model = HopfieldNetwork()\n",
    "model.train(X)"
   ]
  },
  {
   "cell_type": "markdown",
   "metadata": {},
   "source": [
    "# 3. Tasks and questions"
   ]
  },
  {
   "cell_type": "markdown",
   "metadata": {},
   "source": [
    "## 3.1 Convergence and attractors"
   ]
  },
  {
   "cell_type": "code",
   "execution_count": 5,
   "metadata": {},
   "outputs": [],
   "source": [
    "# 1. apply the update rule\n",
    "x1d = np.array([1, -1, 1, -1, 1, -1, -1, 1])\n",
    "x2d = np.array([1, 1, -1, -1, -1, 1, -1, -1])\n",
    "x3d = np.array([1, 1, 1, -1, 1, 1, -1, 1])"
   ]
  },
  {
   "cell_type": "code",
   "execution_count": 6,
   "metadata": {},
   "outputs": [
    {
     "name": "stdout",
     "output_type": "stream",
     "text": [
      "[-1 -1  1 -1  1 -1 -1  1]\n",
      "True\n"
     ]
    }
   ],
   "source": [
    "rp1 = model.update_async(x1d)\n",
    "print(rp1)\n",
    "print((rp1 == x1).all())            "
   ]
  },
  {
   "cell_type": "code",
   "execution_count": 7,
   "metadata": {},
   "outputs": [
    {
     "name": "stdout",
     "output_type": "stream",
     "text": [
      "[-1 -1 -1 -1 -1  1 -1 -1]\n",
      "True\n"
     ]
    }
   ],
   "source": [
    "rp2 = model.update_async(x2d)\n",
    "print(rp2)\n",
    "print((rp2 == x2).all())"
   ]
  },
  {
   "cell_type": "code",
   "execution_count": 8,
   "metadata": {},
   "outputs": [
    {
     "name": "stdout",
     "output_type": "stream",
     "text": [
      "[-1  1  1 -1 -1  1 -1  1]\n",
      "True\n"
     ]
    }
   ],
   "source": [
    "rp3 = model.update_async(x3d)\n",
    "print(rp3)\n",
    "print((rp3 == x3).all())"
   ]
  },
  {
   "cell_type": "code",
   "execution_count": 9,
   "metadata": {},
   "outputs": [
    {
     "name": "stdout",
     "output_type": "stream",
     "text": [
      "attractor 1 : [ 1.  1.  1.  1.  1. -1.  1.  1.]\n",
      "attractor 2 : [ 1.  1. -1.  1. -1.  1.  1. -1.]\n",
      "attractor 3 : [ 1. -1. -1.  1.  1. -1.  1. -1.]\n",
      "attractor 4 : [-1.  1.  1. -1. -1.  1. -1.  1.]\n",
      "attractor 5 : [-1. -1.  1. -1.  1. -1. -1.  1.]\n",
      "attractor 6 : [-1. -1. -1. -1. -1.  1. -1. -1.]\n"
     ]
    }
   ],
   "source": [
    "# 2. How many attractors are there in this network? Answer: 6\n",
    "N = 8\n",
    "k = 2 ** N\n",
    "rp = np.ones([k, N])\n",
    "\n",
    "for i in range(k):\n",
    "    l = len(bin(i)) - 2\n",
    "    for j in range(l):\n",
    "        if bin(i)[j + 2] == '1':\n",
    "            rp[i, N - l + j] = -1\n",
    "\n",
    "n = 0\n",
    "\n",
    "for i in range(k):\n",
    "    A = rp[i]\n",
    "    B = model.update_async(A)\n",
    "    if (A == B).all():\n",
    "        n += 1\n",
    "        print('attractor', n, ':', A)"
   ]
  },
  {
   "cell_type": "code",
   "execution_count": 10,
   "metadata": {},
   "outputs": [],
   "source": [
    "# 3. What happens when making the start pattern more dissimilar to the stored ones?"
   ]
  },
  {
   "cell_type": "code",
   "execution_count": 11,
   "metadata": {},
   "outputs": [
    {
     "name": "stdout",
     "output_type": "stream",
     "text": [
      "[-1  1  1 -1 -1  1 -1  1]\n",
      "True\n"
     ]
    }
   ],
   "source": [
    "x3ds = np.array([1, -1, -1, 1, 1, 1, -1, 1])\n",
    "r3ds = model.update_async(x3ds)\n",
    "print(r3ds)\n",
    "print((r3ds == x3).all())"
   ]
  },
  {
   "cell_type": "markdown",
   "metadata": {},
   "source": [
    "## 3.2 Sequential update"
   ]
  },
  {
   "cell_type": "code",
   "execution_count": 12,
   "metadata": {},
   "outputs": [],
   "source": [
    "# read data stored in pict.dat"
   ]
  },
  {
   "cell_type": "code",
   "execution_count": 13,
   "metadata": {},
   "outputs": [],
   "source": [
    "def read_data(file_name):\n",
    "    f = open(file_name)\n",
    "    raw_data = f.read().split(',')\n",
    "    length = len(raw_data)\n",
    "    N = int(length / 1024)\n",
    "    for i in range(length):\n",
    "        raw_data[i] = float(raw_data[i])\n",
    "    data = np.array(raw_data).reshape((N, 1024))\n",
    "\n",
    "    return data"
   ]
  },
  {
   "cell_type": "code",
   "execution_count": 14,
   "metadata": {},
   "outputs": [],
   "source": [
    "data = read_data(\"pict.dat\")\n",
    "p1, p2, p3 = data[0], data[1], data[2]"
   ]
  },
  {
   "cell_type": "code",
   "execution_count": 15,
   "metadata": {},
   "outputs": [
    {
     "data": {
      "image/png": "[encoded data removed]",
      "text/plain": [
       "<Figure size 432x288 with 3 Axes>"
      ]
     },
     "metadata": {
      "needs_background": "light"
     },
     "output_type": "display_data"
    }
   ],
   "source": [
    "for i in range(3):\n",
    "    p = data[i]\n",
    "    plt.subplot(131 + i)\n",
    "    plt.imshow(p.reshape((32, 32)), cmap='gray', vmin=-1, vmax=1.)\n",
    "    \n",
    "plt.show()"
   ]
  },
  {
   "cell_type": "code",
   "execution_count": 16,
   "metadata": {},
   "outputs": [],
   "source": [
    "X = np.array([p1, p2, p3]).T\n",
    "model = HopfieldNetwork()\n",
    "model.train(X)"
   ]
  },
  {
   "cell_type": "code",
   "execution_count": 17,
   "metadata": {},
   "outputs": [],
   "source": [
    "# 1. Check that the three patterns are stable"
   ]
  },
  {
   "cell_type": "code",
   "execution_count": 18,
   "metadata": {},
   "outputs": [
    {
     "name": "stdout",
     "output_type": "stream",
     "text": [
      "[-1. -1. -1. ... -1. -1. -1.] True\n",
      "[-1. -1. -1. ... -1. -1. -1.] True\n",
      "[1. 1. 1. ... 1. 1. 1.] True\n"
     ]
    }
   ],
   "source": [
    "for i in range(3):\n",
    "    rp = model.update_async(data[i])\n",
    "    print(rp, (rp == data[i]).all())"
   ]
  },
  {
   "cell_type": "code",
   "execution_count": 19,
   "metadata": {},
   "outputs": [],
   "source": [
    "# 2. Try if the network can complete degraded patterns: p10 and p11"
   ]
  },
  {
   "cell_type": "code",
   "execution_count": 20,
   "metadata": {},
   "outputs": [
    {
     "data": {
      "image/png": "[encoded data removed]",
      "text/plain": [
       "<Figure size 432x288 with 1 Axes>"
      ]
     },
     "metadata": {
      "needs_background": "light"
     },
     "output_type": "display_data"
    },
    {
     "data": {
      "image/png": "[encoded data removed]",
      "text/plain": [
       "<Figure size 432x288 with 1 Axes>"
      ]
     },
     "metadata": {
      "needs_background": "light"
     },
     "output_type": "display_data"
    }
   ],
   "source": [
    "p10, p11 = data[9], data[10]\n",
    "plt.imshow(p10.reshape((32, 32)), cmap='gray', vmin=-1, vmax=1.)\n",
    "plt.title(\"before repair\")\n",
    "plt.show()\n",
    "rp10 = model.update_async(p10)\n",
    "plt.imshow(rp10.reshape((32, 32)), cmap='gray', vmin=-1, vmax=1.)\n",
    "plt.title(\"after repair\")\n",
    "plt.show()"
   ]
  },
  {
   "cell_type": "code",
   "execution_count": 21,
   "metadata": {},
   "outputs": [
    {
     "name": "stdout",
     "output_type": "stream",
     "text": [
      "True\n"
     ]
    },
    {
     "data": {
      "image/png": "[encoded data removed]",
      "text/plain": [
       "<Figure size 432x288 with 1 Axes>"
      ]
     },
     "metadata": {
      "needs_background": "light"
     },
     "output_type": "display_data"
    },
    {
     "data": {
      "image/png": "[encoded data removed]",
      "text/plain": [
       "<Figure size 432x288 with 1 Axes>"
      ]
     },
     "metadata": {
      "needs_background": "light"
     },
     "output_type": "display_data"
    }
   ],
   "source": [
    "rp11 = model.update_async(p11)\n",
    "print((rp11 == p2).all())\n",
    "\n",
    "plt.imshow(p11.reshape((32, 32)), cmap='gray', vmin=-1, vmax=1.)\n",
    "plt.title(\"before repair\")\n",
    "plt.show()\n",
    "\n",
    "plt.imshow(rp11.reshape((32, 32)), cmap='gray', vmin=-1, vmax=1.)\n",
    "plt.title(\"after repair\")\n",
    "plt.show()"
   ]
  },
  {
   "cell_type": "code",
   "execution_count": 22,
   "metadata": {},
   "outputs": [],
   "source": [
    "# 3. Select units randomly, calculate the new states and repeat the process"
   ]
  },
  {
   "cell_type": "code",
   "execution_count": null,
   "metadata": {},
   "outputs": [],
   "source": []
  },
  {
   "cell_type": "markdown",
   "metadata": {},
   "source": [
    "## 3.3 Energy"
   ]
  },
  {
   "cell_type": "code",
   "execution_count": 23,
   "metadata": {},
   "outputs": [],
   "source": [
    "# 1. What is the energy at the different attractors?"
   ]
  },
  {
   "cell_type": "code",
   "execution_count": 24,
   "metadata": {},
   "outputs": [
    {
     "name": "stdout",
     "output_type": "stream",
     "text": [
      "1 True\n",
      "2 True\n",
      "3 True\n",
      "4 False\n",
      "5 False\n",
      "6 False\n",
      "7 False\n",
      "8 False\n",
      "9 False\n",
      "10 False\n",
      "11 False\n"
     ]
    }
   ],
   "source": [
    "# find out all the undistored patterns\n",
    "for i in range(11):\n",
    "    p = data[i]\n",
    "    rp = model.update_async(p)\n",
    "    print(i + 1, (p == rp).all())"
   ]
  },
  {
   "cell_type": "code",
   "execution_count": 25,
   "metadata": {},
   "outputs": [
    {
     "name": "stdout",
     "output_type": "stream",
     "text": [
      "-490288.00000000006\n",
      "-465114.66666666674\n",
      "-498090.6666666668\n"
     ]
    }
   ],
   "source": [
    "for i in range(3):\n",
    "    p = data[i]\n",
    "    print(model.energyOf(p))"
   ]
  },
  {
   "cell_type": "code",
   "execution_count": 26,
   "metadata": {},
   "outputs": [],
   "source": [
    "# 2. What is the energy of the distorted patterns?"
   ]
  },
  {
   "cell_type": "code",
   "execution_count": 27,
   "metadata": {},
   "outputs": [
    {
     "name": "stdout",
     "output_type": "stream",
     "text": [
      "-244900.00000000003\n",
      "-178480.0\n",
      "-232208.0\n",
      "-233038.6666666667\n",
      "-57530.66666666667\n",
      "-90286.66666666667\n",
      "-140964.0\n",
      "-58197.333333333314\n"
     ]
    }
   ],
   "source": [
    "for i in range(3, 11):\n",
    "    p = data[i]\n",
    "    print(model.energyOf(p))"
   ]
  },
  {
   "cell_type": "code",
   "execution_count": 28,
   "metadata": {},
   "outputs": [],
   "source": [
    "# 3. Follow the energy changes during sequential update"
   ]
  },
  {
   "cell_type": "code",
   "execution_count": 29,
   "metadata": {},
   "outputs": [
    {
     "data": {
      "image/png": "[encoded data removed]",
      "text/plain": [
       "<Figure size 432x288 with 1 Axes>"
      ]
     },
     "metadata": {
      "needs_background": "light"
     },
     "output_type": "display_data"
    }
   ],
   "source": [
    "energy_log = []\n",
    "model.update_async(data[10], log=energy_log)\n",
    "model.plot_energy(energy_log)"
   ]
  },
  {
   "cell_type": "code",
   "execution_count": 30,
   "metadata": {},
   "outputs": [],
   "source": [
    "# 4. Generate a random weight matrix and iterate an arbitrary random state"
   ]
  },
  {
   "cell_type": "code",
   "execution_count": 31,
   "metadata": {},
   "outputs": [
    {
     "data": {
      "image/png": "[encoded data removed]",
      "text/plain": [
       "<Figure size 432x288 with 1 Axes>"
      ]
     },
     "metadata": {
      "needs_background": "light"
     },
     "output_type": "display_data"
    }
   ],
   "source": [
    "np.random.seed(0)\n",
    "W = np.random.normal(0, 1, (1024, 1024))\n",
    "np.random.seed(1)\n",
    "p_start = np.sign(np.random.normal(0, 1, 1024))\n",
    "model.W = W\n",
    "energy_log = []\n",
    "rp = model.update_async(p_start, log=energy_log)\n",
    "model.plot_energy(energy_log)"
   ]
  },
  {
   "cell_type": "code",
   "execution_count": 32,
   "metadata": {},
   "outputs": [],
   "source": [
    "# 5. Make thw weight matrix symmetrix and find out what will happen and why that happens."
   ]
  },
  {
   "cell_type": "code",
   "execution_count": 33,
   "metadata": {},
   "outputs": [
    {
     "data": {
      "image/png": "[encoded data removed]",
      "text/plain": [
       "<Figure size 432x288 with 1 Axes>"
      ]
     },
     "metadata": {
      "needs_background": "light"
     },
     "output_type": "display_data"
    }
   ],
   "source": [
    "W = 0.5 * (W + W.T)\n",
    "model.W = W\n",
    "energy_log = []\n",
    "rp = model.update_async(p_start, log=energy_log)\n",
    "model.plot_energy(energy_log)"
   ]
  },
  {
   "cell_type": "markdown",
   "metadata": {},
   "source": [
    "## 3.4 Distortion Resistance"
   ]
  },
  {
   "cell_type": "code",
   "execution_count": 34,
   "metadata": {},
   "outputs": [],
   "source": [
    "# 1. Add noise to p1, p2, p3 and see how much noise can be removed."
   ]
  },
  {
   "cell_type": "code",
   "execution_count": 35,
   "metadata": {},
   "outputs": [],
   "source": [
    "def add_noise(arr: np.ndarray, ratio: float):\n",
    "    \"\"\"\n",
    "    Randomly flip a selected number of units\n",
    "    :param arr: the array to add noise\n",
    "    :param ratio: the ratio of noise\n",
    "    :return: the array with noise\n",
    "    \"\"\"\n",
    "    p = np.copy(arr)\n",
    "    n = len(p)\n",
    "    permutation = [i for i in range(n)]\n",
    "    m = int(n * ratio)\n",
    "    np.random.seed(2)\n",
    "    indices = np.random.choice(permutation, m)\n",
    "    for index in indices:\n",
    "        p[index] = - p[index]\n",
    "\n",
    "    return p"
   ]
  },
  {
   "cell_type": "code",
   "execution_count": 36,
   "metadata": {},
   "outputs": [],
   "source": [
    "def repair_degree(p1, p2):\n",
    "    return 1 - 0.5 * np.sum(np.abs(p1 - p2)) / 1024"
   ]
  },
  {
   "cell_type": "code",
   "execution_count": 37,
   "metadata": {},
   "outputs": [],
   "source": [
    "ratio = np.linspace(0.2, 1, 5)"
   ]
  },
  {
   "cell_type": "code",
   "execution_count": 38,
   "metadata": {},
   "outputs": [
    {
     "data": {
      "image/png": "[encoded data removed]",
      "text/plain": [
       "<Figure size 432x288 with 3 Axes>"
      ]
     },
     "metadata": {
      "needs_background": "light"
     },
     "output_type": "display_data"
    },
    {
     "name": "stdout",
     "output_type": "stream",
     "text": [
      "Repair degree:  1.0 1.0 1.0\n"
     ]
    },
    {
     "data": {
      "image/png": "[encoded data removed]",
      "text/plain": [
       "<Figure size 432x288 with 3 Axes>"
      ]
     },
     "metadata": {
      "needs_background": "light"
     },
     "output_type": "display_data"
    },
    {
     "name": "stdout",
     "output_type": "stream",
     "text": [
      "Repair degree:  1.0 1.0 1.0\n"
     ]
    },
    {
     "data": {
      "image/png": "[encoded data removed]",
      "text/plain": [
       "<Figure size 432x288 with 3 Axes>"
      ]
     },
     "metadata": {
      "needs_background": "light"
     },
     "output_type": "display_data"
    },
    {
     "name": "stdout",
     "output_type": "stream",
     "text": [
      "Repair degree:  1.0 1.0 0.8818359375\n"
     ]
    },
    {
     "data": {
      "image/png": "[encoded data removed]",
      "text/plain": [
       "<Figure size 432x288 with 3 Axes>"
      ]
     },
     "metadata": {
      "needs_background": "light"
     },
     "output_type": "display_data"
    },
    {
     "name": "stdout",
     "output_type": "stream",
     "text": [
      "Repair degree:  0.8681640625 1.0 0.8818359375\n"
     ]
    },
    {
     "data": {
      "image/png": "[encoded data removed]",
      "text/plain": [
       "<Figure size 432x288 with 3 Axes>"
      ]
     },
     "metadata": {
      "needs_background": "light"
     },
     "output_type": "display_data"
    },
    {
     "name": "stdout",
     "output_type": "stream",
     "text": [
      "Repair degree:  0.8681640625 1.0 0.8818359375\n"
     ]
    }
   ],
   "source": [
    "model.train(X)\n",
    "for r in ratio:\n",
    "    p1_noise = add_noise(p1, r)\n",
    "    p2_noise = add_noise(p2, r)\n",
    "    p3_noise = add_noise(p3, r)\n",
    "    rp1 = model.update_sync(p1_noise)\n",
    "    rp2 = model.update_sync(p2_noise)\n",
    "    rp3 = model.update_sync(p3_noise)\n",
    "\n",
    "    fig = plt.figure()\n",
    "    fig.suptitle(\"Repair result with noise ratio r = %.2f\" % r)\n",
    "    ax1 = fig.add_subplot(131)\n",
    "    ax2 = fig.add_subplot(132)\n",
    "    ax3 = fig.add_subplot(133)\n",
    "    ax1.imshow(rp1.reshape((32, 32)), cmap='gray', vmin=-1, vmax=1.)\n",
    "    ax2.imshow(rp2.reshape((32, 32)), cmap='gray', vmin=-1, vmax=1.)\n",
    "    ax3.imshow(rp3.reshape((32, 32)), cmap='gray', vmin=-1, vmax=1.)\n",
    "    plt.show()\n",
    "\n",
    "    degree1 = repair_degree(p1, rp1)\n",
    "    degree2 = repair_degree(p2, rp2)\n",
    "    degree3 = repair_degree(p3, rp3)\n",
    "\n",
    "    print(\"Repair degree: \", degree1, degree2, degree3)"
   ]
  },
  {
   "cell_type": "code",
   "execution_count": 39,
   "metadata": {},
   "outputs": [],
   "source": [
    "# 2. Find out the difference between the attractors with regard to noise tolerance"
   ]
  },
  {
   "cell_type": "code",
   "execution_count": 40,
   "metadata": {},
   "outputs": [],
   "source": [
    "# 3. Find out if the network always converge to the right attractor"
   ]
  },
  {
   "cell_type": "markdown",
   "metadata": {},
   "source": [
    "## 3.5 Capacity"
   ]
  },
  {
   "cell_type": "code",
   "execution_count": 41,
   "metadata": {},
   "outputs": [],
   "source": [
    "# 1. How many patterns can be safely stored? Add more patterns and check performance after each addition"
   ]
  },
  {
   "cell_type": "code",
   "execution_count": 42,
   "metadata": {},
   "outputs": [
    {
     "name": "stdout",
     "output_type": "stream",
     "text": [
      "[0.8984375, 0.8603515625, 0.951171875, 0.919921875]\n",
      "[0.91796875, 0.89453125, 0.921875, 0.912109375, 0.8857421875]\n",
      "[0.8564453125, 0.810546875, 0.9287109375, 0.892578125, 0.85546875, 0.8759765625]\n",
      "[0.8671875, 0.82421875, 0.916015625, 0.875, 0.8564453125, 0.8779296875, 0.8916015625]\n",
      "[0.85498046875, 0.80517578125, 0.9208984375, 0.8857421875, 0.849609375, 0.876953125, 0.8876953125, 0.822265625]\n",
      "[0.857421875, 0.8173828125, 0.91796875, 0.8740234375, 0.8447265625, 0.8720703125, 0.8818359375, 0.8232421875, 0.8134765625]\n",
      "[0.8701171875, 0.8115234375, 0.916015625, 0.8720703125, 0.8427734375, 0.873046875, 0.87890625, 0.8232421875, 0.8115234375, 0.84375]\n",
      "[0.869140625, 0.841796875, 0.9189453125, 0.8701171875, 0.8427734375, 0.8720703125, 0.880859375, 0.8125, 0.818359375, 0.8369140625, 1.0]\n"
     ]
    }
   ],
   "source": [
    "for j in range(4, 12):\n",
    "    X = np.array(data[:j]).T\n",
    "    model.train(X)\n",
    "    degree = []\n",
    "    for i in range(j):\n",
    "        p = data[i]\n",
    "        p_noise = add_noise(p, 0.3)\n",
    "        rp = model.update_sync(p_noise)\n",
    "        d = repair_degree(p, rp)\n",
    "        degree.append(d)\n",
    "    print(degree)"
   ]
  },
  {
   "cell_type": "code",
   "execution_count": 43,
   "metadata": {},
   "outputs": [],
   "source": [
    "# 2. Repeat with learning random patterns"
   ]
  },
  {
   "cell_type": "code",
   "execution_count": 44,
   "metadata": {},
   "outputs": [
    {
     "name": "stdout",
     "output_type": "stream",
     "text": [
      "[1.0, 1.0, 1.0, 1.0, 1.0]\n"
     ]
    }
   ],
   "source": [
    "# generate random patterns\n",
    "n = 5\n",
    "ps = []\n",
    "for i in range(n):\n",
    "    p = np.sign(np.random.normal(0, 1, 100))\n",
    "    ps.append(p)\n",
    "X = np.array(ps).T\n",
    "model.train(X)\n",
    "\n",
    "# iterate on the distored patterns\n",
    "degree = []\n",
    "for i in range(n):\n",
    "    p = X[:, i]\n",
    "    p_noise = add_noise(p, 0.3)\n",
    "    rp = model.update_async(p_noise)\n",
    "    d = repair_degree(p, rp)\n",
    "    degree.append(d)\n",
    "print(degree)"
   ]
  },
  {
   "cell_type": "code",
   "execution_count": 45,
   "metadata": {},
   "outputs": [],
   "source": [
    "# 3. How to explain the differences between random patterns and pictures?"
   ]
  },
  {
   "cell_type": "code",
   "execution_count": 46,
   "metadata": {},
   "outputs": [],
   "source": [
    "# 4. What happens with the number of stable patterns as more are learned?"
   ]
  },
  {
   "cell_type": "code",
   "execution_count": 47,
   "metadata": {},
   "outputs": [],
   "source": [
    "# generate and try different stable patterns\n",
    "log = []\n",
    "np.random.seed(5)\n",
    "X = np.sign(np.random.normal(0, 1, (100, 300)))\n",
    "for i in range(2, 300):\n",
    "    model.train(X[:, :i])\n",
    "    cnt = 0\n",
    "    for j in range(i - 1):\n",
    "        p = X[:, j]\n",
    "        rp = model.update_sync(p)\n",
    "        cnt += 1 if (p == rp).all() else 0\n",
    "    log.append(cnt)"
   ]
  },
  {
   "cell_type": "code",
   "execution_count": 48,
   "metadata": {},
   "outputs": [
    {
     "data": {
      "image/png": "[encoded data removed]",
      "text/plain": [
       "<Figure size 432x288 with 1 Axes>"
      ]
     },
     "metadata": {
      "needs_background": "light"
     },
     "output_type": "display_data"
    }
   ],
   "source": [
    "# visualize the results\n",
    "plt.plot(np.linspace(3, 300, 298), log)\n",
    "plt.xlabel(\"Number of learned patterns\")\n",
    "plt.ylabel(\"Number of stable patterns\")\n",
    "plt.title(\"Learning from random patterns\")\n",
    "plt.show()"
   ]
  },
  {
   "cell_type": "code",
   "execution_count": 49,
   "metadata": {},
   "outputs": [],
   "source": [
    "# 5. What happens if noise is introduced to the patterns"
   ]
  },
  {
   "cell_type": "code",
   "execution_count": 50,
   "metadata": {},
   "outputs": [],
   "source": [
    "# generate patterns and add noise\n",
    "log = []\n",
    "np.random.seed(5)\n",
    "X = np.sign(np.random.normal(0, 1, (100, 300)))\n",
    "for i in range(2, 300):\n",
    "    model.train(X[:, :i])\n",
    "    cnt = 0\n",
    "    for j in range(i - 1):\n",
    "        p = X[:, j]\n",
    "        p_noise = add_noise(p, 0.2)\n",
    "        rp = model.update_sync(p_noise)\n",
    "        cnt += 1 if (p == rp).all() else 0\n",
    "    log.append(cnt)"
   ]
  },
  {
   "cell_type": "code",
   "execution_count": 53,
   "metadata": {},
   "outputs": [
    {
     "data": {
      "image/png": "[encoded data removed]",
      "text/plain": [
       "<Figure size 432x288 with 1 Axes>"
      ]
     },
     "metadata": {
      "needs_background": "light"
     },
     "output_type": "display_data"
    }
   ],
   "source": [
    "# visualize the results\n",
    "plt.plot(np.linspace(3, 300, 298), log)\n",
    "plt.xlabel(\"Number of learned patterns\")\n",
    "plt.ylabel(\"Number of stable patterns\")\n",
    "plt.title(\"Learning from random patterns(with noise)\")\n",
    "plt.show()"
   ]
  },
  {
   "cell_type": "code",
   "execution_count": 54,
   "metadata": {},
   "outputs": [],
   "source": [
    "# 6. What is the number of retrievable patterns for this network?"
   ]
  },
  {
   "cell_type": "code",
   "execution_count": null,
   "metadata": {},
   "outputs": [],
   "source": []
  },
  {
   "cell_type": "code",
   "execution_count": 55,
   "metadata": {},
   "outputs": [],
   "source": [
    "# 7. "
   ]
  },
  {
   "cell_type": "markdown",
   "metadata": {},
   "source": [
    "## 3.6 Sparse Patterns"
   ]
  },
  {
   "cell_type": "code",
   "execution_count": 56,
   "metadata": {},
   "outputs": [],
   "source": [
    "# 1. Generate sparse patterns with 10% activity and how many can be stored w.r.t different theta"
   ]
  },
  {
   "cell_type": "code",
   "execution_count": 57,
   "metadata": {},
   "outputs": [],
   "source": [
    "N = 100  # number of units\n",
    "P = 20  # number of patterns\n",
    "p = 0.1\n",
    "ones = np.ones(int(p * N))\n",
    "zeros = np.zeros(N - int(p * N))\n",
    "x = np.concatenate((ones, zeros))\n",
    "X = []\n",
    "for i in range(P):\n",
    "    np.random.seed(P + i)\n",
    "    X.append(np.random.permutation(x))\n",
    "X = np.array(X).T"
   ]
  },
  {
   "cell_type": "code",
   "execution_count": null,
   "metadata": {},
   "outputs": [],
   "source": []
  },
  {
   "cell_type": "code",
   "execution_count": null,
   "metadata": {},
   "outputs": [],
   "source": [
    "# 2. What about even sparser patterns?"
   ]
  }
 ],
 "metadata": {
  "kernelspec": {
   "display_name": "Python 3",
   "language": "python",
   "name": "python3"
  },
  "language_info": {
   "codemirror_mode": {
    "name": "ipython",
    "version": 3
   },
   "file_extension": ".py",
   "mimetype": "text/x-python",
   "name": "python",
   "nbconvert_exporter": "python",
   "pygments_lexer": "ipython3",
   "version": "3.7.0"
  }
 },
 "nbformat": 4,
 "nbformat_minor": 2
}
