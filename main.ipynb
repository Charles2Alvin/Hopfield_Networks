{
 "cells": [
  {
   "cell_type": "markdown",
   "metadata": {},
   "source": [
    "# <center>Lab Assignment 3: Hopfield networks</center>"
   ]
  },
  {
   "cell_type": "code",
   "execution_count": 1,
   "metadata": {},
   "outputs": [],
   "source": [
    "import numpy as np"
   ]
  },
  {
   "cell_type": "markdown",
   "metadata": {},
   "source": [
    "### Implement the network class"
   ]
  },
  {
   "cell_type": "code",
   "execution_count": 2,
   "metadata": {},
   "outputs": [],
   "source": [
    "class HopfieldNetwork:\n",
    "    def __init__(self):\n",
    "        self.W = None\n",
    "\n",
    "    def train(self, X: np.ndarray):\n",
    "        M, N = len(X), len(X[0])\n",
    "        self.W = (1 / N) * X.dot(X.T)\n",
    "        np.fill_diagonal(self.W, 0)\n",
    "\n",
    "    def print_W(self):\n",
    "        for i in range(self.W.shape[0]):\n",
    "            for j in range(self.W.shape[1]):\n",
    "                print(\"%.1f  \\t\" % (self.W[i][j]),  end='')\n",
    "            print()\n",
    "\n",
    "    def update(self, p_start):\n",
    "        \"\"\"\n",
    "        Apply the update rule on the input pattern V to get the restored pattern\n",
    "        which is an attractor in the network's storage\n",
    "        :param p_start: the start pattern\n",
    "        :return: the restored pattern\n",
    "        \"\"\"\n",
    "        V = np.copy(p_start)\n",
    "        m = len(V)\n",
    "        indices = [i for i in range(m)]\n",
    "        iter = 1\n",
    "        while True:\n",
    "            cnt = 0\n",
    "            indices = np.random.permutation(indices)\n",
    "            for i in indices:\n",
    "                value_old = V[i]\n",
    "                value_new = np.sign(self.W[:, i].dot(V))\n",
    "                if value_new != value_old:\n",
    "                    V[i] = value_new\n",
    "                    cnt += 1\n",
    "                # print(i, value_old, value_new, self.W[:, i].dot(V))\n",
    "            if cnt == 0:\n",
    "                # print(\"Converged in %s iterations\" % iter)\n",
    "                break\n",
    "            iter += 1\n",
    "\n",
    "        return V"
   ]
  },
  {
   "cell_type": "markdown",
   "metadata": {},
   "source": [
    "### Construct input patterns for training"
   ]
  },
  {
   "cell_type": "code",
   "execution_count": 3,
   "metadata": {},
   "outputs": [],
   "source": [
    "x1 = [-1, -1, 1, -1, 1, -1, -1, 1]\n",
    "x2 = [-1, -1, -1, -1, -1, 1, -1, -1]\n",
    "x3 = [-1, 1, 1, -1, -1, 1, -1, 1]\n",
    "X = np.array([x1, x2, x3]).T"
   ]
  },
  {
   "cell_type": "markdown",
   "metadata": {},
   "source": [
    "### Train the network"
   ]
  },
  {
   "cell_type": "code",
   "execution_count": 4,
   "metadata": {},
   "outputs": [],
   "source": [
    "model = HopfieldNetwork()\n",
    "model.train(X)"
   ]
  },
  {
   "cell_type": "markdown",
   "metadata": {},
   "source": [
    "# 3. Tasks and questions"
   ]
  },
  {
   "cell_type": "markdown",
   "metadata": {},
   "source": [
    "## 3.1 Convergence and attractors"
   ]
  },
  {
   "cell_type": "code",
   "execution_count": 5,
   "metadata": {},
   "outputs": [],
   "source": [
    "# 1. apply the update rule\n",
    "x1d = np.array([1, -1, 1, -1, 1, -1, -1, 1])\n",
    "x2d = np.array([1, 1, -1, -1, -1, 1, -1, -1])\n",
    "x3d = np.array([1, 1, 1, -1, 1, 1, -1, 1])"
   ]
  },
  {
   "cell_type": "code",
   "execution_count": 6,
   "metadata": {},
   "outputs": [
    {
     "name": "stdout",
     "output_type": "stream",
     "text": [
      "[-1 -1  1 -1  1 -1 -1  1]\n",
      "True\n"
     ]
    }
   ],
   "source": [
    "rp1 = model.update(x1d)\n",
    "print(rp1)\n",
    "print((rp1 == x1).all())            "
   ]
  },
  {
   "cell_type": "code",
   "execution_count": 7,
   "metadata": {},
   "outputs": [
    {
     "name": "stdout",
     "output_type": "stream",
     "text": [
      "[-1 -1 -1 -1 -1  1 -1 -1]\n",
      "True\n"
     ]
    }
   ],
   "source": [
    "rp2 = model.update(x2d)\n",
    "print(rp2)\n",
    "print((rp2 == x2).all())"
   ]
  },
  {
   "cell_type": "code",
   "execution_count": 8,
   "metadata": {},
   "outputs": [
    {
     "name": "stdout",
     "output_type": "stream",
     "text": [
      "[-1  1  1 -1 -1  1 -1  1]\n",
      "True\n"
     ]
    }
   ],
   "source": [
    "rp3 = model.update(x3d)\n",
    "print(rp3)\n",
    "print((rp3 == x3).all())"
   ]
  },
  {
   "cell_type": "code",
   "execution_count": 9,
   "metadata": {},
   "outputs": [
    {
     "name": "stdout",
     "output_type": "stream",
     "text": [
      "attractor 1 : [ 1.  1.  1.  1.  1. -1.  1.  1.]\n",
      "attractor 2 : [ 1.  1. -1.  1. -1.  1.  1. -1.]\n",
      "attractor 3 : [ 1. -1. -1.  1.  1. -1.  1. -1.]\n",
      "attractor 4 : [-1.  1.  1. -1. -1.  1. -1.  1.]\n",
      "attractor 5 : [-1. -1.  1. -1.  1. -1. -1.  1.]\n",
      "attractor 6 : [-1. -1. -1. -1. -1.  1. -1. -1.]\n"
     ]
    }
   ],
   "source": [
    "# 2. How many attractors are there in this network? Answer: 14\n",
    "N = 8\n",
    "k = 2 ** N\n",
    "rp = np.ones([k, N])\n",
    "\n",
    "for i in range(k):\n",
    "    l = len(bin(i)) - 2\n",
    "    for j in range(l):\n",
    "        if bin(i)[j + 2] == '1':\n",
    "            rp[i, N - l + j] = -1\n",
    "\n",
    "n = 0\n",
    "\n",
    "for i in range(k):\n",
    "    A = rp[i]\n",
    "    B = model.update(A)\n",
    "    if (A == B).all():\n",
    "        n += 1\n",
    "        print('attractor', n, ':', A)"
   ]
  },
  {
   "cell_type": "code",
   "execution_count": 10,
   "metadata": {},
   "outputs": [],
   "source": [
    "# 3. What happens when making the start pattern more dissimilar to the stored ones?"
   ]
  },
  {
   "cell_type": "code",
   "execution_count": 11,
   "metadata": {},
   "outputs": [
    {
     "name": "stdout",
     "output_type": "stream",
     "text": [
      "[ 1 -1 -1  1  1 -1  1 -1]\n",
      "False\n"
     ]
    }
   ],
   "source": [
    "x3ds = np.array([1, -1, -1, 1, 1, 1, -1, 1])\n",
    "r3ds = model.update(x3ds)\n",
    "print(r3ds)\n",
    "print((r3ds == x3).all())"
   ]
  },
  {
   "cell_type": "markdown",
   "metadata": {},
   "source": [
    "## 3.2 Sequential update"
   ]
  },
  {
   "cell_type": "code",
   "execution_count": null,
   "metadata": {},
   "outputs": [],
   "source": []
  },
  {
   "cell_type": "code",
   "execution_count": null,
   "metadata": {},
   "outputs": [],
   "source": [
    "\n",
    "        \n"
   ]
  },
  {
   "cell_type": "code",
   "execution_count": null,
   "metadata": {},
   "outputs": [],
   "source": []
  }
 ],
 "metadata": {
  "kernelspec": {
   "display_name": "Python 3",
   "language": "python",
   "name": "python3"
  },
  "language_info": {
   "codemirror_mode": {
    "name": "ipython",
    "version": 3
   },
   "file_extension": ".py",
   "mimetype": "text/x-python",
   "name": "python",
   "nbconvert_exporter": "python",
   "pygments_lexer": "ipython3",
   "version": "3.7.0"
  }
 },
 "nbformat": 4,
 "nbformat_minor": 2
}
